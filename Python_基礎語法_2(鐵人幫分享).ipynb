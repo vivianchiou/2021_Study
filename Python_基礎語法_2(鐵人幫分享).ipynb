{
  "nbformat": 4,
  "nbformat_minor": 0,
  "metadata": {
    "kernelspec": {
      "name": "python3",
      "display_name": "Python 3"
    },
    "colab": {
      "name": "Python_基礎語法 - 2(鐵人幫分享).ipynb",
      "provenance": [],
      "collapsed_sections": [
        "9y236yrdSumf",
        "0ucylrK0Sw3g",
        "oUsFs5RcSzWy",
        "fTxPF08mS4PI",
        "nYsQWeFXVNZO",
        "V-ZTCYHITOkB",
        "IdIiR6zAGgqG",
        "1mABK55VGqej",
        "HIHNeolCJNWg",
        "dv8BsUE9V6Dt"
      ],
      "toc_visible": true,
      "include_colab_link": true
    },
    "accelerator": "GPU"
  },
  "cells": [
    {
      "cell_type": "markdown",
      "metadata": {
        "id": "view-in-github",
        "colab_type": "text"
      },
      "source": [
        "<a href=\"https://colab.research.google.com/github/vivianchiou/2021_Study/blob/main/Python_%E5%9F%BA%E7%A4%8E%E8%AA%9E%E6%B3%95_2(%E9%90%B5%E4%BA%BA%E5%B9%AB%E5%88%86%E4%BA%AB).ipynb\" target=\"_parent\"><img src=\"https://colab.research.google.com/assets/colab-badge.svg\" alt=\"Open In Colab\"/></a>"
      ]
    },
    {
      "cell_type": "markdown",
      "metadata": {
        "collapsed": true,
        "id": "6OZu7Iytc9vG"
      },
      "source": [
        "#  04-3.Python->基礎語法II"
      ]
    },
    {
      "cell_type": "markdown",
      "metadata": {
        "id": "UZ34YQevW6W4"
      },
      "source": [
        "![](https://python.rs/pylogo.png)"
      ]
    },
    {
      "cell_type": "markdown",
      "metadata": {
        "id": "AGJCiSLbdfZ-"
      },
      "source": [
        "\n",
        "- 接續[Python_基礎語法 - 1 (鐵人幫分享)](https://colab.research.google.com/drive/1iC3DsVYJZSE2YIac_o8qzid71fA5dXXP?usp=sharing)的內容，繼續Python語法介紹\n"
      ]
    },
    {
      "cell_type": "markdown",
      "metadata": {
        "id": "9y236yrdSumf"
      },
      "source": [
        "## 格式化輸出"
      ]
    },
    {
      "cell_type": "markdown",
      "metadata": {
        "id": "0ucylrK0Sw3g"
      },
      "source": [
        "### 認識print()函式\n"
      ]
    },
    {
      "cell_type": "markdown",
      "metadata": {
        "id": "MNGgXNA3y3aS"
      },
      "source": [
        "\n",
        "- `print(*objects, sep=' ', end='\\n', file=sys.stdout, flush=False)` \n",
        "    - `*objects`: 接受輸出的內容，多筆資料以逗號隔開。\n",
        "    - `sep`: 間隔，預設一個空白。\n",
        "    - `end`: 預設為`\\n`即換行。\n",
        "    - `file`: 預設為螢幕輸出。\n",
        "    - `flush`: 預設為布清除資料緩衝區。\n",
        "- 各參數不指定修改即為預設值。\n",
        "- 未來各種函數詳細內容可參閱文檔，或使用`help(print)`、`?print`查詢。"
      ]
    },
    {
      "cell_type": "code",
      "metadata": {
        "id": "5cfymMVxUXCt"
      },
      "source": [
        "?print()"
      ],
      "execution_count": null,
      "outputs": []
    },
    {
      "cell_type": "markdown",
      "metadata": {
        "id": "oUsFs5RcSzWy"
      },
      "source": [
        "### 格式化 print() 輸出語法"
      ]
    },
    {
      "cell_type": "markdown",
      "metadata": {
        "id": "fTxPF08mS4PI"
      },
      "source": [
        "#### 以類似C語言的`printf`語法輸出\n",
        "\n"
      ]
    },
    {
      "cell_type": "markdown",
      "metadata": {
        "id": "_vCXXuaQVHa5"
      },
      "source": [
        "\n",
        "|語法|說明|\n",
        "|-|-|\n",
        "|%s|輸出文字\n",
        "|%f|輸出浮點數\n",
        "|%d|輸出十進位整數\n",
        "|%e、%E|以科學記號輸出數值\n",
        "|%o|以八進位整數方式輸出數值\n",
        "|%x、%X|以十六進位整數方式輸出數值\n",
        "|%c|以字元方式輸出\n",
        "|%r|以 repr() 函數輸出文字\n",
        "|%%|輸出 % 百分比符號\n"
      ]
    },
    {
      "cell_type": "code",
      "metadata": {
        "id": "8gzV5_7RinVp"
      },
      "source": [
        "word_1 = 'Main9'\n",
        "word_2 = '48794'\n",
        "word_3 = '狂'\n",
        "print('%s%s%s' % (word_1, word_2,word_3))"
      ],
      "execution_count": null,
      "outputs": []
    },
    {
      "cell_type": "markdown",
      "metadata": {
        "id": "UAMskvadWh0y"
      },
      "source": [
        "![](https://imgur.dcard.tw/P30BHIO.jpg)\n"
      ]
    },
    {
      "cell_type": "code",
      "metadata": {
        "id": "fCtrN1qMAx2C"
      },
      "source": [
        "#新八戰鬥力\n",
        "fight_point = {\"新八\":362, \"一般人\":360}"
      ],
      "execution_count": null,
      "outputs": []
    },
    {
      "cell_type": "code",
      "metadata": {
        "id": "t5wzI5_B9mKa",
        "colab": {
          "base_uri": "https://localhost:8080/",
          "height": 34
        },
        "outputId": "546c40b4-d027-424c-d001-a000ebcaf911"
      },
      "source": [
        "print(\"志村新八比一般人強%dK(昆布)，戰鬥力比一般人高%.2f%%昆布\" % \n",
        "      ( fight_point[\"新八\"] - fight_point[\"一般人\"] , \n",
        "       (fight_point[\"新八\"] -fight_point[\"一般人\"])/ fight_point[\"一般人\"] *100))"
      ],
      "execution_count": null,
      "outputs": [
        {
          "output_type": "stream",
          "text": [
            "志村新八比一般人強2K(昆布)，戰鬥力比一般人高0.56%昆布\n"
          ],
          "name": "stdout"
        }
      ]
    },
    {
      "cell_type": "code",
      "metadata": {
        "id": "eJx4RyxcEkXs",
        "colab": {
          "base_uri": "https://localhost:8080/",
          "height": 34
        },
        "outputId": "332774f8-e111-43d8-db72-60d3abc47b32"
      },
      "source": [
        "fp1 = fight_point[\"新八\"] - fight_point[\"一般人\"]\n",
        "fp2 = (fight_point[\"新八\"] -fight_point[\"一般人\"]) / fight_point[\"一般人\"] *100\n",
        "\n",
        "print(\"志村新八比一般人強%d個昆布，戰鬥力比一般人高%.2f%%個昆布\" % (fp1, fp2))"
      ],
      "execution_count": null,
      "outputs": [
        {
          "output_type": "stream",
          "text": [
            "志村新八比一般人強2個昆布，戰鬥力比一般人高0.56%個昆布\n"
          ],
          "name": "stdout"
        }
      ]
    },
    {
      "cell_type": "markdown",
      "metadata": {
        "id": "M3WkiendU-g1"
      },
      "source": [
        "\n",
        "- 空間與對齊\n",
        "    - 控制輸出排版結果，以及控制小數點顯示位數\n",
        "    - 以`%s`的`%`及`s`中間加入格式語法表示\n",
        "\n",
        "|目的|表示|\n",
        "    |-|-|\n",
        "    |以m格輸出|`\"%ms\" % _`|\n",
        "    |數值空白前補0|`\"%0md\" % _`|\n",
        "    |以m格靠左對齊|`\"%-ms\" % _`|\n",
        "    |限制輸出字串長度上限|`\"%.ms\" % _`|\n",
        "    |浮點數設定總寬度m及小數位數n|`\"%m.nf\" % _`|\n",
        "    |強迫顯示正負號|`\"%+d\" % _`|\n",
        "    |負號顯示、正數留空|`\"% d\" % _`|"
      ]
    },
    {
      "cell_type": "markdown",
      "metadata": {
        "id": "nYsQWeFXVNZO"
      },
      "source": [
        "#### 以`format`語法輸出"
      ]
    },
    {
      "cell_type": "markdown",
      "metadata": {
        "id": "Cp_3xAYyS_oK"
      },
      "source": [
        "- `format`會自動處理各種類型的資料。\n",
        "- 如有2個以上的格式化輸出內容\n"
      ]
    },
    {
      "cell_type": "code",
      "metadata": {
        "id": "AmvkbMTwVPst"
      },
      "source": [
        "# 字串格式化\n",
        "msg='{}, {}!'.format('Hello','World') \n",
        "print(msg)"
      ],
      "execution_count": null,
      "outputs": []
    },
    {
      "cell_type": "code",
      "metadata": {
        "id": "9cfZMwCNVbzP"
      },
      "source": [
        "#照順序\n",
        "print(\"{} , {}!\".format(\"Hello\",\"World\"))\n",
        "\n",
        "#自編順序\n",
        "print(\"{1} , {0}!\".format(\"World\",\"Hello\"))\n"
      ],
      "execution_count": null,
      "outputs": []
    },
    {
      "cell_type": "code",
      "metadata": {
        "id": "gT5SnivHFkBA"
      },
      "source": [
        "print(\"志村新八比一般人強{}K(昆布)，戰鬥力比一般人高{:.2}%個昆布\".format(fp1,fp2))"
      ],
      "execution_count": null,
      "outputs": []
    },
    {
      "cell_type": "markdown",
      "metadata": {
        "id": "L5PmSyumVYKj"
      },
      "source": [
        "- 空間與對齊\n",
        "    \n",
        "|目的|表示|\n",
        "|-|-|\n",
        "    |以m格輸出|`\"{:m}\".format()`|\n",
        "    |數值空白前補0|`\"{:0m}\".format()`|\n",
        "    |靠右對齊|`\"{:>m}\".format()`|\n",
        "    |靠左對齊|`\"{:<m}\".format()`|\n",
        "    |置中對齊|`\"{:^m}\".format()`|\n",
        "    |限制輸出字串長度上限|`\"{:.m}\".format()`|\n",
        "    |浮點數設定總寬度m及小數位數n|`\"{:m.nf}\".format()`|\n",
        "    |強迫顯示正負號|`\"{:+m}\".format()`|\n",
        "    |負號顯示、正數留空|`\"{: m}\".format()`|\n",
        "    "
      ]
    },
    {
      "cell_type": "markdown",
      "metadata": {
        "id": "uNwe6na8o5NM"
      },
      "source": [
        "#### 目前最常用的-加上格式碼 `f`\n",
        "- Python 的格式化輸出自3.6版本起支援以 `f` 作為字串開頭的格式化代碼，更為簡潔易用。\n"
      ]
    },
    {
      "cell_type": "code",
      "metadata": {
        "id": "lBPhsGt7pM5g",
        "colab": {
          "base_uri": "https://localhost:8080/",
          "height": 85
        },
        "outputId": "a3336c0e-8f09-4e48-b779-16c7b48459d6"
      },
      "source": [
        "#3種寫法一次比較\n",
        "name = \"巧虎\"\n",
        "age = 3\n",
        "\n",
        "print(\"大家好我是%s，我今年%s歲!\"% (name, age))\n",
        "print(\"大家好我是{}，我今年{}歲!\".format(name, age))\n",
        "print(f\"大家好我是{name}，我今年{age}歲!\")\n",
        "print(f\"{name}好乖，叔叔帶你喝養樂多!\")"
      ],
      "execution_count": null,
      "outputs": [
        {
          "output_type": "stream",
          "text": [
            "大家好我是巧虎，我今年3歲!\n",
            "大家好我是巧虎，我今年3歲!\n",
            "大家好我是巧虎，我今年3歲!\n",
            "巧虎好乖，叔叔帶你喝養樂多!\n"
          ],
          "name": "stdout"
        }
      ]
    },
    {
      "cell_type": "markdown",
      "metadata": {
        "id": "V-ZTCYHITOkB"
      },
      "source": [
        "## 輸入資料input()\n",
        "\n"
      ]
    },
    {
      "cell_type": "markdown",
      "metadata": {
        "id": "YnH7IOYMzZCC"
      },
      "source": [
        "- `a = input(\"prompt:\")`\n",
        "    - 輸入結果儲存於變數a，型別為字串\n",
        "    - prompt為輸入提示"
      ]
    },
    {
      "cell_type": "code",
      "metadata": {
        "id": "EtBtdkRnVz_f"
      },
      "source": [
        "a = input(\"prompt:\")\n",
        "print(a)"
      ],
      "execution_count": null,
      "outputs": []
    },
    {
      "cell_type": "code",
      "metadata": {
        "id": "A41WUTKAoUL0"
      },
      "source": [
        "email = '我的email帳號:'+input(\"請輸入您的email: \")\n",
        "print(email)"
      ],
      "execution_count": null,
      "outputs": []
    },
    {
      "cell_type": "markdown",
      "metadata": {
        "id": "Mm_vEs67VyH0"
      },
      "source": [
        "- 可以運用`eval()`進行字串的數學運算"
      ]
    },
    {
      "cell_type": "code",
      "metadata": {
        "id": "UwetZBP1TU2N"
      },
      "source": [
        "a_add_b = input(\"請輸入a及b數字\")\n",
        "result = eval(a_add_b)\n",
        "print(result)"
      ],
      "execution_count": null,
      "outputs": []
    },
    {
      "cell_type": "code",
      "metadata": {
        "id": "rOrChx1qrroi"
      },
      "source": [
        "#BMI = 體重(公斤) / 身高平方(平方公尺)\n",
        "#BMI = w/h**2\n",
        "h = input(\"您的身高(cm): \")\n",
        "w = input(\"您的體重(kg): \")\n",
        "BMI = float(w)/(float(h)/100)**2\n",
        "print(f\"您的輸入的身高{h}cm，體重為{w}公斤，BMI為{BMI}。\")"
      ],
      "execution_count": null,
      "outputs": []
    },
    {
      "cell_type": "markdown",
      "metadata": {
        "id": "IdIiR6zAGgqG"
      },
      "source": [
        "## Python控制敘述"
      ]
    },
    {
      "cell_type": "markdown",
      "metadata": {
        "id": "1mABK55VGqej"
      },
      "source": [
        "### 條件判斷 `if`, `elif`, `else`"
      ]
    },
    {
      "cell_type": "code",
      "metadata": {
        "id": "S4E8-KI9rIly",
        "colab": {
          "base_uri": "https://localhost:8080/",
          "height": 35
        },
        "outputId": "b7730ac0-4e1e-4895-a5f7-bd4574efcf0d"
      },
      "source": [
        "if True:\n",
        "  print(\"YES\")"
      ],
      "execution_count": null,
      "outputs": [
        {
          "output_type": "stream",
          "text": [
            "YES\n"
          ],
          "name": "stdout"
        }
      ]
    },
    {
      "cell_type": "code",
      "metadata": {
        "id": "NaiboZPgG6ti",
        "colab": {
          "base_uri": "https://localhost:8080/",
          "height": 35
        },
        "outputId": "7341ba9e-1b0e-4e7c-eb7a-03bd77234eb6"
      },
      "source": [
        "if 1:\n",
        "  print(\"YES\")"
      ],
      "execution_count": null,
      "outputs": [
        {
          "output_type": "stream",
          "text": [
            "YES\n"
          ],
          "name": "stdout"
        }
      ]
    },
    {
      "cell_type": "code",
      "metadata": {
        "id": "ZWN3T_uJG8-J",
        "colab": {
          "base_uri": "https://localhost:8080/",
          "height": 35
        },
        "outputId": "cf14e33e-3b76-4151-c215-db1a9a1d9ac6"
      },
      "source": [
        "if 8+9 == 17:\n",
        "  print(\"YES\")"
      ],
      "execution_count": null,
      "outputs": [
        {
          "output_type": "stream",
          "text": [
            "YES\n"
          ],
          "name": "stdout"
        }
      ]
    },
    {
      "cell_type": "code",
      "metadata": {
        "id": "EJ6EC8dqHPwZ",
        "colab": {
          "base_uri": "https://localhost:8080/",
          "height": 35
        },
        "outputId": "d70c92f1-11af-4462-fdf0-595f0dbd1034"
      },
      "source": [
        "if 8+9 is 17:\n",
        "  print(\"YES\")"
      ],
      "execution_count": null,
      "outputs": [
        {
          "output_type": "stream",
          "text": [
            "YES\n"
          ],
          "name": "stdout"
        }
      ]
    },
    {
      "cell_type": "code",
      "metadata": {
        "id": "OGBToi4lnV04",
        "colab": {
          "base_uri": "https://localhost:8080/",
          "height": 34
        },
        "outputId": "5255b2e6-238a-493f-d322-0e0074b1d45e"
      },
      "source": [
        "鐵人幫第n日 = 19\n",
        "鐵人幫文章篇數 = 19 \n",
        "if 鐵人幫文章篇數 - 鐵人幫文章篇數 <= 0:\n",
        "    print(\"斷炊趕稿\")\n",
        "else: \n",
        "    print(\"不用趕稿我就讚!\")"
      ],
      "execution_count": null,
      "outputs": [
        {
          "output_type": "stream",
          "text": [
            "斷炊趕稿\n"
          ],
          "name": "stdout"
        }
      ]
    },
    {
      "cell_type": "code",
      "metadata": {
        "id": "v9JlAUc9o0Wl",
        "colab": {
          "base_uri": "https://localhost:8080/",
          "height": 34
        },
        "outputId": "18c41217-3c52-4725-b51b-f0ebcb676de5"
      },
      "source": [
        "鐵人幫第n日 = 19\n",
        "鐵人幫文章篇數 = 19 \n",
        "if 鐵人幫文章篇數 - 鐵人幫文章篇數 == 0:\n",
        "    print(\"快趕稿，別富奸阿!!!!\")\n",
        "elif 鐵人幫文章篇數 - 鐵人幫文章篇數 < 0:\n",
        "    print(\"斷更! 挑戰失敗\")\n",
        "else: \n",
        "    print(\"持續更新我就讚!\")"
      ],
      "execution_count": null,
      "outputs": [
        {
          "output_type": "stream",
          "text": [
            "快趕稿，別富奸阿!!!!\n"
          ],
          "name": "stdout"
        }
      ]
    },
    {
      "cell_type": "markdown",
      "metadata": {
        "id": "HIHNeolCJNWg"
      },
      "source": [
        "### 迴圈"
      ]
    },
    {
      "cell_type": "code",
      "metadata": {
        "id": "61sIbGMMIMv4"
      },
      "source": [
        "x=0                           #設定初始值\n",
        "while x < 10:                  #while True條件判斷\n",
        "  print (x, \"is less than 10\") #執行陳述\n",
        "  x += 1                      #初值增減"
      ],
      "execution_count": null,
      "outputs": []
    },
    {
      "cell_type": "code",
      "metadata": {
        "id": "GEzMVTpPxC0A",
        "colab": {
          "base_uri": "https://localhost:8080/",
          "height": 35
        },
        "outputId": "4ef04912-61b1-4d44-adb5-7ee1d9a52fe2"
      },
      "source": [
        "range(10)\n",
        "0,1,234578,9 "
      ],
      "execution_count": null,
      "outputs": [
        {
          "output_type": "execute_result",
          "data": {
            "text/plain": [
              "range(0, 10)"
            ]
          },
          "metadata": {
            "tags": []
          },
          "execution_count": 27
        }
      ]
    },
    {
      "cell_type": "code",
      "metadata": {
        "id": "Xa3v9qxZJw3p",
        "colab": {
          "base_uri": "https://localhost:8080/",
          "height": 191
        },
        "outputId": "4376863b-f124-46b8-bd5a-d4e380978198"
      },
      "source": [
        "for x in range(10):\n",
        "  print (x, \"is less than 10\")"
      ],
      "execution_count": null,
      "outputs": [
        {
          "output_type": "stream",
          "text": [
            "0 is less than 10\n",
            "1 is less than 10\n",
            "2 is less than 10\n",
            "3 is less than 10\n",
            "4 is less than 10\n",
            "5 is less than 10\n",
            "6 is less than 10\n",
            "7 is less than 10\n",
            "8 is less than 10\n",
            "9 is less than 10\n"
          ],
          "name": "stdout"
        }
      ]
    },
    {
      "cell_type": "code",
      "metadata": {
        "id": "u8EClBs1JV7X",
        "colab": {
          "base_uri": "https://localhost:8080/",
          "height": 139
        },
        "outputId": "fc75bf5f-27ec-40ba-d78a-8514aa925638"
      },
      "source": [
        "for x in range(10):\n",
        "  if x==3:\n",
        "    continue # go immediately to the next iteration\n",
        "  if x==8:    \n",
        "    break # quit the loop entirely\n",
        "  print (x)"
      ],
      "execution_count": null,
      "outputs": [
        {
          "output_type": "stream",
          "text": [
            "0\n",
            "1\n",
            "2\n",
            "4\n",
            "5\n",
            "6\n",
            "7\n"
          ],
          "name": "stdout"
        }
      ]
    },
    {
      "cell_type": "markdown",
      "metadata": {
        "id": "dv8BsUE9V6Dt"
      },
      "source": [
        "### 例外陳述"
      ]
    },
    {
      "cell_type": "markdown",
      "metadata": {
        "id": "1QwaYCYQV-E9"
      },
      "source": [
        "- 例外處理 (exception handling) 是利用 try 、 except 、 finally 及 else\n",
        "- 所謂例外 (exception) 是指已知有可能發生的錯誤 (error) ，像是開啟檔案，檔案卻不存在，或除數為 0 等等的情況。\n"
      ]
    },
    {
      "cell_type": "code",
      "metadata": {
        "id": "u8pW3M6axwuK",
        "colab": {
          "base_uri": "https://localhost:8080/",
          "height": 166
        },
        "outputId": "f0418bbc-d03b-46e5-b074-76afb6f10fee"
      },
      "source": [
        "1/0"
      ],
      "execution_count": null,
      "outputs": [
        {
          "output_type": "error",
          "ename": "ZeroDivisionError",
          "evalue": "ignored",
          "traceback": [
            "\u001b[0;31m---------------------------------------------------------------------------\u001b[0m",
            "\u001b[0;31mZeroDivisionError\u001b[0m                         Traceback (most recent call last)",
            "\u001b[0;32m<ipython-input-30-9e1622b385b6>\u001b[0m in \u001b[0;36m<module>\u001b[0;34m()\u001b[0m\n\u001b[0;32m----> 1\u001b[0;31m \u001b[0;36m1\u001b[0m\u001b[0;34m/\u001b[0m\u001b[0;36m0\u001b[0m\u001b[0;34m\u001b[0m\u001b[0;34m\u001b[0m\u001b[0m\n\u001b[0m",
            "\u001b[0;31mZeroDivisionError\u001b[0m: division by zero"
          ]
        }
      ]
    },
    {
      "cell_type": "code",
      "metadata": {
        "id": "IfCWVwZZWzHs",
        "colab": {
          "base_uri": "https://localhost:8080/",
          "height": 52
        },
        "outputId": "64bcef4d-5545-4d80-b4b4-16b1c5104e71"
      },
      "source": [
        "try:\n",
        "    result = 1 / 0\n",
        "except ZeroDivisionError:\n",
        "    result = 0\n",
        "    print(\"......\")\n",
        "    \n",
        "print(result)\n"
      ],
      "execution_count": null,
      "outputs": [
        {
          "output_type": "stream",
          "text": [
            "......\n",
            "0\n"
          ],
          "name": "stdout"
        }
      ]
    },
    {
      "cell_type": "markdown",
      "metadata": {
        "id": "Kyg9-AXiWgk6"
      },
      "source": [
        "- try: 所有可能發生例外的程式碼都要放在try來嘗試是否有錯誤\n",
        "- except: 後空一格接例外類別 (class) ，底下程式區塊做相對應的例外處理\n",
        "- else:假設沒有例外發生的處理\n",
        "- finally 是例外處理結束後，無論如何都會執行的部分(可有可無)"
      ]
    },
    {
      "cell_type": "code",
      "metadata": {
        "id": "dfjTPID6YGQP",
        "colab": {
          "base_uri": "https://localhost:8080/",
          "height": 233
        },
        "outputId": "f510c40a-589e-4041-9347-67120b7497f8"
      },
      "source": [
        "try:                     #需嘗試有無錯誤的程式區塊\n",
        "    a = 1 / 0\n",
        "except:                   #錯誤的話則...(省略ZeroDivisionError錯誤類別描述)\n",
        "    a = 0\n",
        "else:                    #未發生例外狀況則...\n",
        "    m1 = \"未發生例外狀況，粉好沒事\"\n",
        "finally:                   #無論錯誤最後一定會執行的\n",
        "    print(\"例外判斷結束句\")\n",
        "\n",
        "print(a)\n",
        "print(m1)"
      ],
      "execution_count": null,
      "outputs": [
        {
          "output_type": "stream",
          "text": [
            "例外判斷結束句\n",
            "0\n"
          ],
          "name": "stdout"
        },
        {
          "output_type": "error",
          "ename": "NameError",
          "evalue": "ignored",
          "traceback": [
            "\u001b[0;31m---------------------------------------------------------------------------\u001b[0m",
            "\u001b[0;31mNameError\u001b[0m                                 Traceback (most recent call last)",
            "\u001b[0;32m<ipython-input-18-9300701d871e>\u001b[0m in \u001b[0;36m<module>\u001b[0;34m()\u001b[0m\n\u001b[1;32m      9\u001b[0m \u001b[0;34m\u001b[0m\u001b[0m\n\u001b[1;32m     10\u001b[0m \u001b[0mprint\u001b[0m\u001b[0;34m(\u001b[0m\u001b[0ma\u001b[0m\u001b[0;34m)\u001b[0m\u001b[0;34m\u001b[0m\u001b[0;34m\u001b[0m\u001b[0m\n\u001b[0;32m---> 11\u001b[0;31m \u001b[0mprint\u001b[0m\u001b[0;34m(\u001b[0m\u001b[0mm1\u001b[0m\u001b[0;34m)\u001b[0m\u001b[0;34m\u001b[0m\u001b[0;34m\u001b[0m\u001b[0m\n\u001b[0m",
            "\u001b[0;31mNameError\u001b[0m: name 'm1' is not defined"
          ]
        }
      ]
    },
    {
      "cell_type": "code",
      "metadata": {
        "id": "MjMqhxjSzT5y",
        "colab": {
          "base_uri": "https://localhost:8080/",
          "height": 68
        },
        "outputId": "383d71eb-dab3-49e4-fa52-ed757663f7b0"
      },
      "source": [
        "try:                     #需嘗試有無錯誤的程式區塊\n",
        "    a = 1 \n",
        "except:                   #錯誤的話則...(省略ZeroDivisionError錯誤類別描述)\n",
        "    a = 0\n",
        "else:                    #未發生例外狀況則...\n",
        "    m2 = \"未發生例外狀況，粉好沒事\"\n",
        "finally:                   #無論錯誤最後一定會執行的\n",
        "    print(\"例外判斷結束句\")\n",
        "\n",
        "print(a)\n",
        "print(m2)"
      ],
      "execution_count": null,
      "outputs": [
        {
          "output_type": "stream",
          "text": [
            "例外判斷結束句\n",
            "1\n",
            "未發生例外狀況，粉好沒事\n"
          ],
          "name": "stdout"
        }
      ]
    }
  ]
}