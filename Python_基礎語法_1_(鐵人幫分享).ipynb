{
  "nbformat": 4,
  "nbformat_minor": 0,
  "metadata": {
    "kernelspec": {
      "name": "python36",
      "display_name": "Python 3.6",
      "language": "python"
    },
    "language_info": {
      "mimetype": "text/x-python",
      "nbconvert_exporter": "python",
      "name": "python",
      "pygments_lexer": "ipython3",
      "version": "3.6.6",
      "file_extension": ".py",
      "codemirror_mode": {
        "version": 3,
        "name": "ipython"
      }
    },
    "colab": {
      "name": "Python_基礎語法 - 1 (鐵人幫分享).ipynb",
      "provenance": [],
      "collapsed_sections": [
        "3M2f3-y_OT5A",
        "coZ7R-Y-POkJ",
        "_X6jUDnjPUi0",
        "rhLfD2jRp7zU",
        "BxUsyirNSQRK",
        "QTqmcPogoAs0",
        "CEPfC4nYwcNK",
        "XtYhHji5xVjZ",
        "QwX0KwQBVi-1",
        "9y236yrdSumf",
        "2PWax5JZrGVb"
      ],
      "toc_visible": true,
      "include_colab_link": true
    },
    "accelerator": "GPU"
  },
  "cells": [
    {
      "cell_type": "markdown",
      "metadata": {
        "id": "view-in-github",
        "colab_type": "text"
      },
      "source": [
        "<a href=\"https://colab.research.google.com/github/vivianchiou/2021_Study/blob/main/Python_%E5%9F%BA%E7%A4%8E%E8%AA%9E%E6%B3%95_1_(%E9%90%B5%E4%BA%BA%E5%B9%AB%E5%88%86%E4%BA%AB).ipynb\" target=\"_parent\"><img src=\"https://colab.research.google.com/assets/colab-badge.svg\" alt=\"Open In Colab\"/></a>"
      ]
    },
    {
      "cell_type": "markdown",
      "metadata": {
        "collapsed": true,
        "id": "6OZu7Iytc9vG"
      },
      "source": [
        "Python 基礎語法"
      ]
    },
    {
      "cell_type": "markdown",
      "metadata": {
        "id": "A40Fgx_PY1dW"
      },
      "source": [
        "## [Day 18 : 【RE : 從零開始的異世界 Python】- 1](https://ithelp.ithome.com.tw/articles/10236347/)\n",
        "鐵人幫-串起你的多媒體系統系列文"
      ]
    },
    {
      "cell_type": "markdown",
      "metadata": {
        "id": "TJiUVgRg4YC9"
      },
      "source": [
        "![](https://python.rs/pylogo.png)"
      ]
    },
    {
      "cell_type": "markdown",
      "metadata": {
        "id": "3M2f3-y_OT5A"
      },
      "source": [
        "## 前言 - 程式的組成"
      ]
    },
    {
      "cell_type": "markdown",
      "metadata": {
        "id": "X1BqefV2c9vH"
      },
      "source": [
        "- 我們先來認識所謂「程式」的基礎，任何程式語言必備的元素有:\n",
        "    - 程式的組成\n",
        "        - 變數\n",
        "        - 基本資料型態\n",
        "          - 如: 整數、浮點數、字串、布林\n",
        "          - 如: 串列、元組、字典、集合等\n",
        "        - 格式化的輸出與輸入\n",
        "          - 如: print(), input()\n",
        "        - 運算子、運算式與敘述\n",
        "          - 如: 加減乘除\n",
        "          - 如: 大小等於\n",
        "        - 選擇性敘述\n",
        "          - 如: if-else\n",
        "        - 迴圈\n",
        "          - 如: for, while\n",
        "    - 進階程式的組成\n",
        "        - 函數fucntion\n",
        "          - 如: def my_function():\n",
        "        - 類別\n",
        "          - 如: class MyClass():"
      ]
    },
    {
      "cell_type": "markdown",
      "metadata": {
        "id": "ONRogSZwaJ4C"
      },
      "source": [
        "## 認識 Python"
      ]
    },
    {
      "cell_type": "markdown",
      "metadata": {
        "id": "VIBZSp-YaPy9"
      },
      "source": [
        "- 語法簡潔但不失優雅，以及 Python 龐大的生態環境可在不同領域都發揮作用所帶來的便利。\n",
        "- Python 是動態語言、直譯式語言:\n",
        "    - Python的變數使用前不必宣告其資料型態，增加程式設計便利性，這類程式執行前不必經過**編譯**(compile)的過程，而是使用**直譯器**(interpreter)直接直譯與執行，稱為**動態語言**(dynamic language)，或稱腳本語言(scripting language)。靜態語言如:C、C++、JAVA；動態語言如:Python、JavaScript、Ruby。\n",
        "- Why Python?\n",
        "    - 活躍的社群\n",
        "    - 開放原始碼\n",
        "    - 眾多第三方資源\n",
        "    - 可快速打造產品原型的工具\n",
        "    - 工程師的第二個程式語言\n",
        "\n",
        "- Python 的魅力:\n",
        "    - 語法簡潔但不失優雅，以及 Python 龐大的生態環境可在不同領域都發揮作用所帶來的便利。"
      ]
    },
    {
      "cell_type": "markdown",
      "metadata": {
        "id": "lsFRYln1amZq"
      },
      "source": [
        "## Python 變數與基本運算"
      ]
    },
    {
      "cell_type": "markdown",
      "metadata": {
        "id": "KnCzDgJtao2-"
      },
      "source": [
        "### 變數命名原則"
      ]
    },
    {
      "cell_type": "markdown",
      "metadata": {
        "id": "vDS0TCDeb4L2"
      },
      "source": [
        "- 變數\n",
        "    - 如同可以儲存資料內容的箱子，命名不能與關鍵字重複，自訂義的命名也不要跟引入的模組重複。\n",
        "- 變數命名原則\n",
        "    - 開頭必須為英文字母、_(底線)或中文字，不能是數字起始。\n",
        "    - 變數名稱只能由英文、數字、_(底線)或中文組成，除了關鍵字之外， Python 可用任何 Unicode 編碼的字元當作識別字。英文大小寫是敏感的。\n",
        "        - 關鍵字: `and` 、 `as` 、 `assert` 、 `break` 、 `class` 、 `continue`、 `def`、`del` 、`elif` 、 `else` 、 `except` 、 `False` 、 `finally` 、 `for` 、 `from` 、 `global` 、 `if` 、 `import` 、 `in` 、 `is` 、 `lambda` 、 `none` 、 `nonlocal` 、 `not`  、 `or` 、 `pass` 、 `raise` 、 `return` 、 `True` 、 `try` 、 `while` 、 `with` 、 `yield`。\n",
        "    - 如果變數需要超過兩個英文單字表達，可用底線符號 (_) ，或是駝峰型如: MyName 或 myName。\n",
        "- 進階慣例(牽涉到設計 `class` 及 `module` )\n",
        "    - 命名 `class` 時，**通常以大寫駝峰型**命名，如`MyClass`。\n",
        "    - 命名函式或方法時，**通常用小寫及底線** (如：`my_module`)。\n",
        "    - 要保護 module 變數或函式不被`from foo import *` 時，可在**變數名稱前加上單一底線**，除非用 `from foo import _var` 才能使用 _var 變數。\n",
        "    - 若要在 `class` 內宣告 private 變數或方法，則在變數名或方法名之前加上兩個底線 (__)，如`MyClass.__my_private_module`，但其實本質上使用者若執意要呼叫private變數還是能夠達成。\n",
        "- Python內建函數[內建函數](http://www.runoob.com/python/python-built-in-functions.html)名稱建議不當作變數名稱，如使用到程式不會錯誤，但功能會被覆蓋。\n"
      ]
    },
    {
      "cell_type": "code",
      "metadata": {
        "id": "c-jKqHFMbNOq",
        "colab": {
          "base_uri": "https://localhost:8080/",
          "height": 131
        },
        "outputId": "40b2f1da-d8a6-4c3d-bb04-e97a3ca347ab"
      },
      "source": [
        "#錯誤示範-數字不能當命名開頭\n",
        "\n",
        "9527_is_good = '多拉a夢'"
      ],
      "execution_count": null,
      "outputs": [
        {
          "output_type": "error",
          "ename": "SyntaxError",
          "evalue": "ignored",
          "traceback": [
            "\u001b[0;36m  File \u001b[0;32m\"<ipython-input-2-bd5591b58240>\"\u001b[0;36m, line \u001b[0;32m3\u001b[0m\n\u001b[0;31m    9527_is_good = '多拉a夢'\u001b[0m\n\u001b[0m        ^\u001b[0m\n\u001b[0;31mSyntaxError\u001b[0m\u001b[0;31m:\u001b[0m invalid token\n"
          ]
        }
      ]
    },
    {
      "cell_type": "markdown",
      "metadata": {
        "id": "BxUsyirNSQRK"
      },
      "source": [
        "### 基本資料型態"
      ]
    },
    {
      "cell_type": "markdown",
      "metadata": {
        "id": "Z5ON3PRTSSk0"
      },
      "source": [
        "- 以`type()`檢查資料型態。\n",
        "- **整數int**\n",
        "    - Python解除了儲存空間大小的限制，記憶體夠大就可以放無限制整數，不會造成**溢位**(overflow)。\n",
        "- **浮點數float**\n",
        "    - 有小數點的數字，Python運算時具有簡易自動轉換能力。\n",
        "    - 由於電腦是以二進位的數值組合，轉換為十進位的浮點數會有誤差。\n",
        "        - 轉換二進位用`bin()`，在Python中為**0b**開頭的數字，如0b1101。\n",
        "        - 轉換八進位用`oct()`，在Python中為**0o**開頭的數字，如0o61。\n",
        "        - 轉換十六進位用`hex()`，在Python中為**0x**開頭的數字，如0x5D。\n",
        "- **布林Boolean**\n",
        "    - 經條件判斷後，回傳結果為`True`或`False`\n",
        "    - `type(True)`回傳1；`type(False)`回傳0。\n",
        "- **字串String**\n",
        "    - 以單引號(`'`)或雙引號(`\"`)前後括起來的任意輸入文字。\n",
        "    - 如果文句中有單/雙引號，則應以雙/單引號避免錯誤。\n",
        "    - 超過一行的字串以3個單引號或3個雙引號包夾\n",
        "    - 不想換行的分段輸入，在程式行末增加`\\`符號\n",
        "        - ```python\n",
        "            #會因程式換行以致輸出結果換行\n",
        "            \"\"\"\n",
        "            我是胖虎，我是孩子王\n",
        "            我是胖虎，我是孩子王\n",
        "            \"\"\"\n",
        "\n",
        "            ##輸出結果不會換行的方式，行末增加\"\\\"\n",
        "            '''\n",
        "            我是胖虎，我是孩子王\\\n",
        "            我是胖虎，我是孩子王\n",
        "            '''\n",
        "            ```\n",
        "      \n",
        "-  轉型\n",
        "    - 轉為文字`str()`，如`str(87)`，結果原來會判別為數字的87變成文字的'87'。\n",
        "    - 轉為整數`int()`。\n",
        "    - 轉為浮點數`float()`。\n",
        "    - 轉為布林`bool()`，非0即為真。\n"
      ]
    },
    {
      "cell_type": "code",
      "metadata": {
        "id": "D6o5Z69rTmz0",
        "colab": {
          "base_uri": "https://localhost:8080/",
          "height": 35
        },
        "outputId": "ac4c7b57-e894-4340-ef00-9604a2a99434"
      },
      "source": [
        "type(True)"
      ],
      "execution_count": null,
      "outputs": [
        {
          "output_type": "execute_result",
          "data": {
            "text/plain": [
              "bool"
            ]
          },
          "metadata": {
            "tags": []
          },
          "execution_count": 2
        }
      ]
    },
    {
      "cell_type": "code",
      "metadata": {
        "id": "L0dceqn4TsJB",
        "colab": {
          "base_uri": "https://localhost:8080/",
          "height": 35
        },
        "outputId": "9b012e02-aec9-4938-b54e-7e30936a2e4d"
      },
      "source": [
        "int(True)"
      ],
      "execution_count": null,
      "outputs": [
        {
          "output_type": "execute_result",
          "data": {
            "text/plain": [
              "1"
            ]
          },
          "metadata": {
            "tags": []
          },
          "execution_count": 3
        }
      ]
    },
    {
      "cell_type": "code",
      "metadata": {
        "id": "gBKWyis9TvQi",
        "colab": {
          "base_uri": "https://localhost:8080/",
          "height": 35
        },
        "outputId": "b1151b2d-1136-4055-93f0-87f80dc45148"
      },
      "source": [
        "int(False)"
      ],
      "execution_count": null,
      "outputs": [
        {
          "output_type": "execute_result",
          "data": {
            "text/plain": [
              "0"
            ]
          },
          "metadata": {
            "tags": []
          },
          "execution_count": 4
        }
      ]
    },
    {
      "cell_type": "code",
      "metadata": {
        "id": "5XsmM3SkT7rQ",
        "colab": {
          "base_uri": "https://localhost:8080/",
          "height": 35
        },
        "outputId": "b6339c0a-7264-41d6-f914-c96554d45a39"
      },
      "source": [
        "\"\"\"\n",
        "我是胖虎，我是孩子王\n",
        "我是胖虎，我是孩子王\n",
        "\"\"\""
      ],
      "execution_count": null,
      "outputs": [
        {
          "output_type": "execute_result",
          "data": {
            "text/plain": [
              "'\\n我是胖虎，我是孩子王\\n我是胖虎，我是孩子王\\n\\n'"
            ]
          },
          "metadata": {
            "tags": []
          },
          "execution_count": 7
        }
      ]
    },
    {
      "cell_type": "markdown",
      "metadata": {
        "id": "zwcxRqDZiHih"
      },
      "source": [
        ""
      ]
    },
    {
      "cell_type": "code",
      "metadata": {
        "id": "8BLOlJ7HT_1C",
        "colab": {
          "base_uri": "https://localhost:8080/",
          "height": 35
        },
        "outputId": "4f8af8b2-1ee1-4d6f-a2b1-709f08d28536"
      },
      "source": [
        "'''\n",
        "我是胖虎，我是孩子王\\\n",
        "我是胖虎，我是孩子王\n",
        "'''"
      ],
      "execution_count": null,
      "outputs": [
        {
          "output_type": "execute_result",
          "data": {
            "text/plain": [
              "'\\n我是胖虎，我是孩子王我是胖虎，我是孩子王\\n'"
            ]
          },
          "metadata": {
            "tags": []
          },
          "execution_count": 6
        }
      ]
    },
    {
      "cell_type": "markdown",
      "metadata": {
        "id": "LCXZNqWMiFw-"
      },
      "source": [
        "- 逸出字元\n",
        "    - 含有'`\\`'符號才能表示的字元(Escape Character)\n",
        "    \n",
        "|逸出字元|意義|\n",
        "      |-|-|\n",
        "      |`\\'`|顯示出單引號|\n",
        "      |`\\\"`|顯示出雙引號|\n",
        "      |`\\\\`|顯示出反斜線|\n",
        "      |`\\n`|換行|\n",
        "      |`\\t`|tab|"
      ]
    },
    {
      "cell_type": "markdown",
      "metadata": {
        "id": "RzlIdwOKu2xP"
      },
      "source": [
        "### 儲存容器-串列 list 、元組 tuple 、集合 Set\n",
        "\n"
      ]
    },
    {
      "cell_type": "markdown",
      "metadata": {
        "id": "QTqmcPogoAs0"
      },
      "source": [
        "#### 串列 list\n",
        "\n"
      ]
    },
    {
      "cell_type": "markdown",
      "metadata": {
        "id": "91dpvGgDpFnS"
      },
      "source": [
        "- 串列list是Python大量使用的工作型態"
      ]
    },
    {
      "cell_type": "markdown",
      "metadata": {
        "id": "rDYDucLroF4i"
      },
      "source": [
        "|計算|說明|\n",
        "|-|-|\n",
        "x in L\t|判斷 x 是否在 L 中\n",
        "x not in L\t|判斷 x 是否不在 L 中\n",
        "L + t\t|連接 L 及 t\n",
        "L ＊ n, n ＊ L\t|將 L 重複 n 次連接 L 本身\n",
        "L[i]|\t取得索引值 i 的元素\n",
        "L[i:j]\t|取得索引值 i 到 j 的子序列\n",
        "L[i:j:k]\t|取得索引值 i 到 j ，間隔 k 的子序列\n",
        "len(L)\t|回傳 L 的元素個數\n",
        "min(L)\t|回傳 L 中的最小值\n",
        "max(L)\t|回傳 L 中的最大值\n",
        "L.index(i)\t|取得 L 中第一次出現 i 的索引值\n",
        "L.count(i)\t|累計 L 中 i 出現的個數"
      ]
    },
    {
      "cell_type": "code",
      "metadata": {
        "id": "BGyqM9o1oTdA",
        "colab": {
          "base_uri": "https://localhost:8080/",
          "height": 34
        },
        "outputId": "1125a060-30b7-46ad-def3-37ddc1e3e724"
      },
      "source": [
        "L = [9,5,2,7]\n",
        "\n",
        "2 in L"
      ],
      "execution_count": null,
      "outputs": [
        {
          "output_type": "execute_result",
          "data": {
            "text/plain": [
              "True"
            ]
          },
          "metadata": {
            "tags": []
          },
          "execution_count": 4
        }
      ]
    },
    {
      "cell_type": "code",
      "metadata": {
        "id": "VoWmZHkiogA2",
        "colab": {
          "base_uri": "https://localhost:8080/",
          "height": 34
        },
        "outputId": "066f9a89-4600-41a5-9640-a430bdae7fc0"
      },
      "source": [
        "len(L)"
      ],
      "execution_count": null,
      "outputs": [
        {
          "output_type": "execute_result",
          "data": {
            "text/plain": [
              "4"
            ]
          },
          "metadata": {
            "tags": []
          },
          "execution_count": 5
        }
      ]
    },
    {
      "cell_type": "code",
      "metadata": {
        "id": "KaxP4OKeoqh1",
        "colab": {
          "base_uri": "https://localhost:8080/",
          "height": 34
        },
        "outputId": "3dd49ff7-af06-400b-8b55-1735ac6b702c"
      },
      "source": [
        "L[::2]"
      ],
      "execution_count": null,
      "outputs": [
        {
          "output_type": "execute_result",
          "data": {
            "text/plain": [
              "[9, 2]"
            ]
          },
          "metadata": {
            "tags": []
          },
          "execution_count": 6
        }
      ]
    },
    {
      "cell_type": "markdown",
      "metadata": {
        "id": "s1UpBOeVoKjw"
      },
      "source": [
        "|計算|說明|\n",
        "|-|-|\n",
        "L[i] = x\t|將索引值 i 的元素指派為 x\n",
        "L[i:j] = t\t|將索引值 i 到 j 的元素指派為 t ， t 為迭代器\n",
        "del L[i:j]\t|刪除索引值 i 到 j 的元素\n",
        "L[i:j:k] = t\t|將索引值 i 到 j ，間隔 k 的元素指派為 t ， t 為迭代器\n",
        "del L[i:j:k]\t|刪除索引值 i 到 j ，間隔 k 的元素\n",
        "list comprehension\t|列表推導式：運用運算式生成新的串列"
      ]
    },
    {
      "cell_type": "code",
      "metadata": {
        "id": "5tNAtB4DozqD",
        "colab": {
          "base_uri": "https://localhost:8080/",
          "height": 34
        },
        "outputId": "0ff0c903-a5fc-44b1-cde3-6c23cd5b4137"
      },
      "source": [
        "#列表推導式list comprehension\n",
        "[x for x in L if x > 3]"
      ],
      "execution_count": null,
      "outputs": [
        {
          "output_type": "execute_result",
          "data": {
            "text/plain": [
              "[9, 5, 7]"
            ]
          },
          "metadata": {
            "tags": []
          },
          "execution_count": 8
        }
      ]
    },
    {
      "cell_type": "code",
      "metadata": {
        "id": "kQLNC6hlj_16",
        "colab": {
          "base_uri": "https://localhost:8080/",
          "height": 34
        },
        "outputId": "ba322a75-730a-4fae-9889-027d59c5bd94"
      },
      "source": [
        "#如以原本寫法如下\n",
        "result = [] #先創空list\n",
        "for x in L: #for迴圈逐一判斷\n",
        "    if x >3: #判斷條件\n",
        "        result.append(x) #符合的結果附加到result串列裡\n",
        "\n",
        "print(result)"
      ],
      "execution_count": null,
      "outputs": [
        {
          "output_type": "stream",
          "text": [
            "[9, 5, 7]\n"
          ],
          "name": "stdout"
        }
      ]
    },
    {
      "cell_type": "markdown",
      "metadata": {
        "id": "cLMHuRG5oNKI"
      },
      "source": [
        "|計算|說明|\n",
        "|-|-|\n",
        "list.append(x)\t|將 x 附加到 list 的最後\n",
        "list.extend(x)\t|將 x 中的元素附加到 list 的最後\n",
        "list.count(x)\t|計算 list 中 x 出現的次數\n",
        "list.index(x[, i[, j]])\t|回傳 x 在 list 最小的索引值\n",
        "list.insert(i, x)\t|將 x 插入 list 索引值 i 的地方\n",
        "list.pop([i])\t|取出 list 中索引值為 i 的元素，預設是最後一個\n",
        "list.remove(x)\t|移除 list 中第一個 x 元素\n",
        "list.reverse()\t|倒轉 list 中元素的順序\n",
        "list.sort([key[, reverse]])\t|排序 list 中的元素"
      ]
    },
    {
      "cell_type": "code",
      "metadata": {
        "id": "wQd_X1ljpMEC"
      },
      "source": [
        "L2 = L.sort()\n",
        "L2"
      ],
      "execution_count": null,
      "outputs": []
    },
    {
      "cell_type": "markdown",
      "metadata": {
        "id": "CEPfC4nYwcNK"
      },
      "source": [
        "#### 元組 tuple"
      ]
    },
    {
      "cell_type": "markdown",
      "metadata": {
        "id": "B73EuJmmwYUl"
      },
      "source": [
        "- 元組 tuple 屬於不可變 (mutable) 的序列 (sequence) 型別，是不可更改的，可進行以下序列通用的計算。\n",
        "\n",
        "計算|\t說明\n",
        "-|-\n",
        "x in s\t|判斷 x 是否在 s 中\n",
        "x not in s\t|判斷 x 是否不在 s 中\n",
        "s + t\t|連接 s 及 t\n",
        "s * n, n * s\t|將 s 重複 n 次連接 s 本身\n",
        "s[i]\t|取得索引值 i 的元素\n",
        "s[i:j]\t|取得索引值 i 到 j 的子序列\n",
        "s[i:j:k]\t|取得索引值 i 到 j ，間隔 k 的子序列\n",
        "len(s)\t|回傳 s 的元素個數\n",
        "min(s)\t|回傳 s 中的最小值\n",
        "max(s)\t|回傳 s 中的最大值\n",
        "s.index(i)\t|取得 s 中第一次出現 i 的索引值\n",
        "s.count(i)\t|累計 s 中 i 出現的個數\n"
      ]
    },
    {
      "cell_type": "code",
      "metadata": {
        "id": "UMAdC1mvwhdO",
        "colab": {
          "base_uri": "https://localhost:8080/",
          "height": 34
        },
        "outputId": "31529485-31d3-44f7-d10e-a4fe280f0319"
      },
      "source": [
        "t = 2, 4, 6, 8\n",
        "t"
      ],
      "execution_count": null,
      "outputs": [
        {
          "output_type": "execute_result",
          "data": {
            "text/plain": [
              "(2, 4, 6, 8)"
            ]
          },
          "metadata": {
            "tags": []
          },
          "execution_count": 11
        }
      ]
    },
    {
      "cell_type": "code",
      "metadata": {
        "id": "oW6mwEnLwl-N",
        "colab": {
          "base_uri": "https://localhost:8080/",
          "height": 165
        },
        "outputId": "f1b0dcf5-aa67-4a49-dd47-f60015f2514f"
      },
      "source": [
        "#更改會報錯\n",
        "t[0] = 1"
      ],
      "execution_count": null,
      "outputs": [
        {
          "output_type": "error",
          "ename": "TypeError",
          "evalue": "ignored",
          "traceback": [
            "\u001b[0;31m---------------------------------------------------------------------------\u001b[0m",
            "\u001b[0;31mTypeError\u001b[0m                                 Traceback (most recent call last)",
            "\u001b[0;32m<ipython-input-12-c8aeb8cd20ae>\u001b[0m in \u001b[0;36m<module>\u001b[0;34m()\u001b[0m\n\u001b[0;32m----> 1\u001b[0;31m \u001b[0mt\u001b[0m\u001b[0;34m[\u001b[0m\u001b[0;36m0\u001b[0m\u001b[0;34m]\u001b[0m \u001b[0;34m=\u001b[0m \u001b[0;36m1\u001b[0m\u001b[0;34m\u001b[0m\u001b[0;34m\u001b[0m\u001b[0m\n\u001b[0m",
            "\u001b[0;31mTypeError\u001b[0m: 'tuple' object does not support item assignment"
          ]
        }
      ]
    },
    {
      "cell_type": "markdown",
      "metadata": {
        "id": "XtYhHji5xVjZ"
      },
      "source": [
        "#### 集合Set\n"
      ]
    },
    {
      "cell_type": "markdown",
      "metadata": {
        "id": "1CUyljg5xURE"
      },
      "source": [
        "- 集合set使用大括弧圍起來，但沒有重複的元素，且無序的存放元素。可將集合視為無鍵的字典物件。"
      ]
    },
    {
      "cell_type": "code",
      "metadata": {
        "id": "rdCJjxDOxWiG"
      },
      "source": [
        "s1 = {9,9,5,5,2,2,7,7}\n",
        "s2 = {9,5,2,7}\n",
        "s1 == s2"
      ],
      "execution_count": null,
      "outputs": []
    },
    {
      "cell_type": "markdown",
      "metadata": {
        "id": "oLfIEvonyY8i"
      },
      "source": [
        "計算\t|說明\n",
        "    -|-\n",
        "    x in s\t|判斷 x 是否在 s 中\n",
        "    x not in s\t|判斷 x 是否不在 s 中\n",
        "    s1 & s2\t|且運算，取得 s1 與 s2 的交集，等於 s1.intersection(s2)\n",
        "    s2 | s2\t|或運算，取得 s1 與 s2 的聯集，等於 s1.union(s2)\n",
        "    s1 ^ s2\t|對稱差運算，取得 s1 與 s2 的對稱差集，等於 s1.symmetric_difference(s2)\n",
        "    s1 - s2\t|差運算，取得 s1 與 s2 的差集，等於 s1.difference(s2)\n",
        "    s1 < s2\t|判斷 s1 是否為 s2 的真子集\n",
        "    s1 <= s2\t|判斷 s1 是否為 s2 的子集，等於 s1.issubset(s2)\n",
        "    s1 > s2\t|判斷 s2 是否為 s1 的真子集\n",
        "    s1 >= s2\t|判斷 s2 是否為 s1 的子集，等於 s1.issuperset(s2)\n",
        "    len(s)\t|回傳 s 的元素個數\n",
        "    min(s)\t|回傳 s 中的最小值， s 中的元素必須是相同型態\n",
        "    max(s)\t|回傳 s 中的最大值， s 中的元素必須是相同型態\n",
        "\n",
        "\n",
        "- 由於 set 型態是可變的，因此有額外兩個新增與刪除元素的方法：\n",
        "\n",
        "方法|說明\n",
        "-|-\n",
        "s.add(e)|增加 e 為 s 的元素\n",
        "s.remove(e)\t|從 s 中刪除元素 e\n"
      ]
    },
    {
      "cell_type": "markdown",
      "metadata": {
        "id": "QwX0KwQBVi-1"
      },
      "source": [
        "#### 字典Dictionary"
      ]
    },
    {
      "cell_type": "markdown",
      "metadata": {
        "id": "9IWvGnwmVq0I"
      },
      "source": [
        "- 以`{}`以及冒號`:`來分隔鍵與值，以創建字典物件\n",
        "- 建立字典變數可利用大括弧，裡頭以 `key:value` 為配對的資料項目，每一筆資料再以逗號區隔開，例如\n",
        "`d1 = {one:\"a\", two:\"b\"}`\n",
        "\n",
        "- 使用字典須注意， key 必須是不可變的資料型態，且不可重複，如數字、字串 (string) 等； value 沒有限制，因此有需要的話，使用串列 (list) 或字典皆可。\n",
        "\n",
        "- 也可以利用字典型態的建構子 (constructor) 建立物件。"
      ]
    },
    {
      "cell_type": "code",
      "metadata": {
        "id": "xZlstgZbWVuS"
      },
      "source": [
        "d1 = {one:\"a\", two:\"b\"}\n",
        "\n",
        "#以下方法與d1同\n",
        "d2 = dict(one=\"a\", two=\"b\")\n",
        "d3 = dict({\"one\":\"a\", \"two\":\"b\"})\n",
        "d4 = dict(zip((\"one\", \"two\"), (\"a\", \"b\")))\n",
        "d5 = dict([[\"one\", \"b\"], [\"two\", \"a\"]])"
      ],
      "execution_count": null,
      "outputs": []
    },
    {
      "cell_type": "markdown",
      "metadata": {
        "id": "cb6Y3ySDWvaS"
      },
      "source": [
        "- 字典物件可進行以下的運算\n",
        "\n",
        "|計算|\t說明|\n",
        "-|-\n",
        "d[key]\t|從 d 中取得 key 的 value\n",
        "d[key] = value\t|將 d 的 key 指定為 value\n",
        "del d[key]\t|刪除 d 中 key 所指定的 value\n",
        "key in d\t|判斷 key 是否在 d 中\n",
        "key not in d\t|判斷 key 是否不在 d 中\n",
        "iter(d)\t|回傳由 d 的 key 建立的迭代器\n",
        "len(d)\t|回傳 d 的配對資料個數"
      ]
    },
    {
      "cell_type": "markdown",
      "metadata": {
        "id": "nV9n9aSyXAAR"
      },
      "source": [
        "- 字典物件的方法 (method)\n",
        "\n",
        "|方法|\t描述|\n",
        "-|-\n",
        "dict.clear()\t|清空 dict 的所有配對資料\n",
        "dict.copy()\t|回傳 dict 的拷貝\n",
        "classmethod dict.fromkeys(seq[, value])\t|由 seq 中的元素構成 key ，每個 key 都給相同的 value 值\n",
        "dict.get(key[, default])\t|從 dict 中取得 key 的 value ，若無此 key 則回傳 default ， default 預設為 None\n",
        "dict.items()\t|回傳 dict_items 物件，使 key:value 儲存為序對，然後依序儲存在 dict_items 物件中\n",
        "dict.keys()\t|回傳 dict_items 物件，使 key 依序儲存在 dict_items 物件中\n",
        "dict.pop(key[, default])\t|將 key 的 value 從 dict 移除，若無此 kay ，回傳 default\n",
        "dict.popitem()\t|從 dict 移除任意一組 key:value\n",
        "dict.setdefault(key[, default])\t|如果 key 在 dict 中，回傳 value 值，反之，將 key:default 加入 dict 之中\n",
        "dict.update([other])\t|將 dict 以 other 更新\n",
        "dict.values()\t|回傳 dict_items 物件，使 value 依序儲存在 dict_items 物件中\n"
      ]
    },
    {
      "cell_type": "code",
      "metadata": {
        "id": "zCjgtIELt_Po",
        "colab": {
          "base_uri": "https://localhost:8080/",
          "height": 34
        },
        "outputId": "d64dbb37-eb02-437e-bec4-14d92952e120"
      },
      "source": [
        "d1 = {'a' : 'C8763', 'b' : [9, 5, 2, 7]}\n",
        "d1"
      ],
      "execution_count": null,
      "outputs": [
        {
          "output_type": "execute_result",
          "data": {
            "text/plain": [
              "{'a': 'C8763', 'b': [9, 5, 2, 7]}"
            ]
          },
          "metadata": {
            "tags": []
          },
          "execution_count": 13
        }
      ]
    },
    {
      "cell_type": "code",
      "metadata": {
        "id": "RdJ02qDbuDRq",
        "colab": {
          "base_uri": "https://localhost:8080/",
          "height": 34
        },
        "outputId": "f3647bc9-0d86-4798-b835-ecfe685fe489"
      },
      "source": [
        "d1[881]='掰掰唷'\n",
        "d1"
      ],
      "execution_count": null,
      "outputs": [
        {
          "output_type": "execute_result",
          "data": {
            "text/plain": [
              "{881: '掰掰唷', 'a': 'C8763', 'b': [9, 5, 2, 7]}"
            ]
          },
          "metadata": {
            "tags": []
          },
          "execution_count": 14
        }
      ]
    },
    {
      "cell_type": "code",
      "metadata": {
        "id": "y3TYe_PjuH2t",
        "colab": {
          "base_uri": "https://localhost:8080/",
          "height": 34
        },
        "outputId": "a0daed5e-3054-4326-a308-dbd193b2587d"
      },
      "source": [
        "d1['b']"
      ],
      "execution_count": null,
      "outputs": [
        {
          "output_type": "execute_result",
          "data": {
            "text/plain": [
              "[9, 5, 2, 7]"
            ]
          },
          "metadata": {
            "tags": []
          },
          "execution_count": 15
        }
      ]
    },
    {
      "cell_type": "code",
      "metadata": {
        "id": "_irZR6qluL94",
        "colab": {
          "base_uri": "https://localhost:8080/",
          "height": 34
        },
        "outputId": "84d67772-51ec-44fb-f577-d9a6a7f1e357"
      },
      "source": [
        "'b' in d1"
      ],
      "execution_count": null,
      "outputs": [
        {
          "output_type": "execute_result",
          "data": {
            "text/plain": [
              "True"
            ]
          },
          "metadata": {
            "tags": []
          },
          "execution_count": 16
        }
      ]
    },
    {
      "cell_type": "code",
      "metadata": {
        "id": "qi3nSp6QuP_K",
        "colab": {
          "base_uri": "https://localhost:8080/",
          "height": 34
        },
        "outputId": "3f75626a-4dec-4364-e47c-41067e5e0016"
      },
      "source": [
        "del d1[881]\n",
        "d1"
      ],
      "execution_count": null,
      "outputs": [
        {
          "output_type": "execute_result",
          "data": {
            "text/plain": [
              "{'a': 'C8763', 'b': [9, 5, 2, 7]}"
            ]
          },
          "metadata": {
            "tags": []
          },
          "execution_count": 17
        }
      ]
    },
    {
      "cell_type": "code",
      "metadata": {
        "id": "85JNHCiDuWZS",
        "colab": {
          "base_uri": "https://localhost:8080/",
          "height": 34
        },
        "outputId": "48a6e5fc-b945-4f04-f915-b2a6cc680a66"
      },
      "source": [
        "d1.keys()"
      ],
      "execution_count": null,
      "outputs": [
        {
          "output_type": "execute_result",
          "data": {
            "text/plain": [
              "dict_keys(['a', 'b'])"
            ]
          },
          "metadata": {
            "tags": []
          },
          "execution_count": 18
        }
      ]
    },
    {
      "cell_type": "code",
      "metadata": {
        "id": "q898i3dEuaQR",
        "colab": {
          "base_uri": "https://localhost:8080/",
          "height": 34
        },
        "outputId": "a4ea76a7-bd96-414f-f8a9-61d470766841"
      },
      "source": [
        "d1.values()"
      ],
      "execution_count": null,
      "outputs": [
        {
          "output_type": "execute_result",
          "data": {
            "text/plain": [
              "dict_values(['C8763', [9, 5, 2, 7]])"
            ]
          },
          "metadata": {
            "tags": []
          },
          "execution_count": 19
        }
      ]
    },
    {
      "cell_type": "markdown",
      "metadata": {
        "id": "d3Y7iVhiug3C"
      },
      "source": [
        "- 可以update方法將字典合併"
      ]
    },
    {
      "cell_type": "code",
      "metadata": {
        "id": "--Qq2vucurMp",
        "colab": {
          "base_uri": "https://localhost:8080/",
          "height": 34
        },
        "outputId": "9ac56ada-8ec1-4f03-a9a5-f0319355dd02"
      },
      "source": [
        "d1.update({'b':9478 , 'c': 'ithome'})\n",
        "d1  # 'b':[9,5,2,7]被覆寫掉了"
      ],
      "execution_count": null,
      "outputs": [
        {
          "output_type": "execute_result",
          "data": {
            "text/plain": [
              "{'a': 'C8763', 'b': 9478, 'c': 'ithome'}"
            ]
          },
          "metadata": {
            "tags": []
          },
          "execution_count": 20
        }
      ]
    }
  ]
}